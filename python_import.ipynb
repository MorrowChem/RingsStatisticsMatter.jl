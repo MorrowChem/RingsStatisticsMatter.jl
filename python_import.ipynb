{
 "cells": [
  {
   "cell_type": "code",
   "execution_count": 48,
   "metadata": {},
   "outputs": [],
   "source": [
    "import numpy as np\n",
    "from ase.io import read, write\n",
    "from ase.neighborlist import NeighborList, NewPrimitiveNeighborList\n",
    "import sys"
   ]
  },
  {
   "cell_type": "code",
   "execution_count": 25,
   "metadata": {},
   "outputs": [
    {
     "name": "stderr",
     "output_type": "stream",
     "text": [
      "[ Info: Julia version info\n"
     ]
    },
    {
     "name": "stdout",
     "output_type": "stream",
     "text": [
      "Julia Version 1.9.2\n",
      "Commit e4ee485e909 (2023-07-05 09:39 UTC)\n",
      "Platform Info:\n",
      "  OS: macOS (arm64-apple-darwin22.4.0)\n",
      "  uname: Darwin 22.4.0 Darwin Kernel Version 22.4.0: Mon Mar  6 20:59:58 PST 2023; root:xnu-8796.101.5~3/RELEASE_ARM64_T6020 arm64 arm\n",
      "  CPU: Apple M2 Pro: \n",
      "                 speed         user         nice          sys         idle          irq\n",
      "       #1-10  2400 MHz    2651343 s          0 s    1716497 s   21067293 s          0 s\n",
      "  Memory: 16.0 GB (59.40625 MB free)\n",
      "  Uptime: 1.236531e6 sec\n",
      "  Load Avg:  5.0009765625  6.79736328125  5.11572265625\n",
      "  WORD_SIZE: 64\n",
      "  LIBM: libopenlibm\n",
      "  LLVM: libLLVM-14.0.6 (ORCJIT, apple-m1)\n",
      "  Threads: 1 on 6 virtual cores\n",
      "Environment:\n",
      "  CFLAGS = -I/opt/homebrew/opt/openssl/include\n",
      "  HOME = /Users/joemorrow\n",
      "  HOMEBREW_CELLAR = /opt/homebrew/Cellar\n",
      "  HOMEBREW_PREFIX = /opt/homebrew\n",
      "  HOMEBREW_REPOSITORY = /opt/homebrew\n",
      "  INFOPATH = /opt/homebrew/share/info:\n",
      "  LDFLAGS = -L/opt/homebrew/opt/openssl/lib\n",
      "  MANPATH = /opt/homebrew/share/man::\n",
      "  PATH = /Users/joemorrow/miniconda3/envs/rings/bin:/Users/joemorrow/miniconda3/condabin:/usr/local/sessionmanagerplugin/bin:/opt/homebrew/opt/gnu-getopt/bin:/opt/homebrew/bin:/usr/local/bin:/usr/local/mysql/bin:/opt/homebrew/bin:/opt/homebrew/sbin:/usr/local/bin:/System/Cryptexes/App/usr/bin:/usr/bin:/bin:/usr/sbin:/sbin:/var/run/com.apple.security.cryptexd/codex.system/bootstrap/usr/local/bin:/var/run/com.apple.security.cryptexd/codex.system/bootstrap/usr/bin:/var/run/com.apple.security.cryptexd/codex.system/bootstrap/usr/appleinternal/bin\n",
      "  VSCODE_CODE_CACHE_PATH = /Users/joemorrow/Library/Application Support/Code/CachedData/660393deaaa6d1996740ff4880f1bad43768c814\n",
      "  XPC_FLAGS = 0x0\n",
      "  TERM = xterm-color\n"
     ]
    },
    {
     "name": "stderr",
     "output_type": "stream",
     "text": [
      "[ Info: Julia executable: /Applications/Julia-1.9.app/Contents/Resources/julia/bin/julia\n",
      "[ Info: Trying to import PyCall...\n",
      "┌ Info: PyCall is already installed and compatible with Python executable.\n",
      "│ \n",
      "│ PyCall:\n",
      "│     python: /Users/joemorrow/miniconda3/envs/rings/bin/python\n",
      "│     libpython: /Users/joemorrow/miniconda3/envs/rings/lib/libpython3.11.dylib\n",
      "│ Python:\n",
      "│     python: /Users/joemorrow/miniconda3/envs/rings/bin/python\n",
      "└     libpython: \n"
     ]
    }
   ],
   "source": [
    "# Initialize Julia\n",
    "import julia\n",
    "julia.install()"
   ]
  },
  {
   "cell_type": "code",
   "execution_count": 39,
   "metadata": {},
   "outputs": [],
   "source": [
    "# Create a Julia instance\n",
    "jl = julia.Julia(compiled_modules=False)"
   ]
  },
  {
   "cell_type": "code",
   "execution_count": 46,
   "metadata": {},
   "outputs": [
    {
     "name": "stderr",
     "output_type": "stream",
     "text": [
      "WARNING: replacing module rings.\n"
     ]
    },
    {
     "data": {
      "text/plain": [
       "<PyCall.jlwrap Main.IOPiper>"
      ]
     },
     "execution_count": 46,
     "metadata": {},
     "output_type": "execute_result"
    }
   ],
   "source": [
    "import julia.Main as Main\n",
    "Main.include(\"rings.jl\")\n",
    "Main.include(\"IOPiper.jl\")"
   ]
  },
  {
   "cell_type": "code",
   "execution_count": 49,
   "metadata": {},
   "outputs": [
    {
     "name": "stdout",
     "output_type": "stream",
     "text": [
      "Testing redirect\n"
     ]
    }
   ],
   "source": [
    "def make_receiver(io):\n",
    "            def receiver(s):\n",
    "                io.write(s)\n",
    "                io.flush()\n",
    "            return receiver\n",
    "\n",
    "Main.IOPiper.pipe_std_outputs(\n",
    "    make_receiver(sys.stdout),\n",
    "    make_receiver(sys.stderr))\n",
    "\n",
    "Main.IOPiper.io_test()"
   ]
  },
  {
   "cell_type": "markdown",
   "metadata": {},
   "source": [
    "# ASE way of generating neighbourlist"
   ]
  },
  {
   "cell_type": "code",
   "execution_count": 97,
   "metadata": {},
   "outputs": [],
   "source": [
    "ats = read('varMQ_11Ks_4096_500K_min.xyz', '-1')"
   ]
  },
  {
   "cell_type": "code",
   "execution_count": 32,
   "metadata": {},
   "outputs": [],
   "source": [
    "ats = read('aSi_500atom_11Ks_annealed.xyz', '-1')"
   ]
  },
  {
   "cell_type": "code",
   "execution_count": null,
   "metadata": {},
   "outputs": [],
   "source": [
    "ats = read(\"\")"
   ]
  },
  {
   "cell_type": "code",
   "execution_count": 99,
   "metadata": {},
   "outputs": [
    {
     "data": {
      "text/plain": [
       "True"
      ]
     },
     "execution_count": 99,
     "metadata": {},
     "output_type": "execute_result"
    }
   ],
   "source": [
    "nl = NeighborList(cutoffs=2.85, self_interaction=False, bothways=True,\n",
    "                  primitive=NewPrimitiveNeighborList)\n",
    "nl.update(ats)"
   ]
  },
  {
   "cell_type": "code",
   "execution_count": 100,
   "metadata": {},
   "outputs": [],
   "source": [
    "neighs = [nl.get_neighbors(i)[0] for i in range(len(ats))]"
   ]
  },
  {
   "cell_type": "code",
   "execution_count": 101,
   "metadata": {},
   "outputs": [],
   "source": [
    "import csv\n",
    "\n",
    "# Write the data to a file\n",
    "with open('nodlnkd.txt', 'w', newline='') as csvfile:\n",
    "    csvwriter = csv.writer(csvfile, delimiter=',')\n",
    "    for row in neighs:\n",
    "        csvwriter.writerow(row+1)"
   ]
  },
  {
   "cell_type": "code",
   "execution_count": 105,
   "metadata": {},
   "outputs": [
    {
     "data": {
      "text/plain": [
       "4096"
      ]
     },
     "execution_count": 105,
     "metadata": {},
     "output_type": "execute_result"
    }
   ],
   "source": [
    "len(ats)"
   ]
  },
  {
   "cell_type": "code",
   "execution_count": 102,
   "metadata": {},
   "outputs": [],
   "source": [
    "# select reference nodes\n",
    "# pick from the corners of a tetrahedron to the edges of the cell, but inwards 20% of the lattice parameter\n",
    "\n",
    "vecs = np.array([\n",
    "    [0.5, 0.5, 0.5],\n",
    "    [-0.5, -0.5, -0.5],\n",
    "    [0.5, -0.5, 0.5],\n",
    "    [0.5, 0.5, -0.5],\n",
    "    [0., 0., 0.],\n",
    "])*0.8 + np.ones(3)*0.5\n"
   ]
  },
  {
   "cell_type": "code",
   "execution_count": 103,
   "metadata": {},
   "outputs": [],
   "source": [
    "spos = ats.get_scaled_positions()\n",
    "refnodes = []\n",
    "\n",
    "for v in vecs:\n",
    "    diff = spos - v\n",
    "    ref = np.argmin(np.linalg.norm(diff, axis=1))\n",
    "    refnodes.append(ref+1) # Julia indexing"
   ]
  },
  {
   "cell_type": "code",
   "execution_count": 104,
   "metadata": {},
   "outputs": [
    {
     "data": {
      "text/plain": [
       "[3920, 206, 1958, 2368, 1206]"
      ]
     },
     "execution_count": 104,
     "metadata": {},
     "output_type": "execute_result"
    }
   ],
   "source": [
    "refnodes"
   ]
  },
  {
   "cell_type": "code",
   "execution_count": 69,
   "metadata": {},
   "outputs": [
    {
     "ename": "RuntimeError",
     "evalue": "<PyCall.jlwrap (in a Julia function called from Python)\nJULIA: MethodError: no method matching (::Colon)(::Int64, ::Tuple{})\n\nClosest candidates are:\n  (::Colon)(::T, ::Any, !Matched::T) where T<:Real\n   @ Base range.jl:45\n  (::Colon)(::A, ::Any, !Matched::C) where {A<:Real, C<:Real}\n   @ Base range.jl:10\n  (::Colon)(::T, ::Any, !Matched::T) where T\n   @ Base range.jl:44\n  ...\n\nStacktrace:\n [1] ring_statistics(numatoms::Int64, nodlnkd::Vector{Vector{Int64}}, maxlvl::Int64, mxnodes::Int64, mxpths::Int64)\n   @ Main.rings ~/data/julia_rings/rings.jl:208\n [2] ring_statistics(numatoms::Int64, nodlnkd::Vector{Vector{Int64}})\n   @ Main.rings ~/data/julia_rings/rings.jl:208\n [3] invokelatest(::Any, ::Any, ::Vararg{Any}; kwargs::Base.Pairs{Symbol, Union{}, Tuple{}, NamedTuple{(), Tuple{}}})\n   @ Base ./essentials.jl:816\n [4] invokelatest(::Any, ::Any, ::Vararg{Any})\n   @ Base ./essentials.jl:813\n [5] _pyjlwrap_call(f::Function, args_::Ptr{PyCall.PyObject_struct}, kw_::Ptr{PyCall.PyObject_struct})\n   @ PyCall ~/.julia/packages/PyCall/ilqDX/src/callback.jl:28\n [6] pyjlwrap_call(self_::Ptr{PyCall.PyObject_struct}, args_::Ptr{PyCall.PyObject_struct}, kw_::Ptr{PyCall.PyObject_struct})\n   @ PyCall ~/.julia/packages/PyCall/ilqDX/src/callback.jl:44>",
     "output_type": "error",
     "traceback": [
      "\u001b[0;31m---------------------------------------------------------------------------\u001b[0m",
      "\u001b[0;31mRuntimeError\u001b[0m                              Traceback (most recent call last)",
      "Cell \u001b[0;32mIn[69], line 1\u001b[0m\n\u001b[0;32m----> 1\u001b[0m rs \u001b[39m=\u001b[39m Main\u001b[39m.\u001b[39;49mrings\u001b[39m.\u001b[39;49mring_statistics(\u001b[39mlen\u001b[39;49m(ats), neighs)\n",
      "\u001b[0;31mRuntimeError\u001b[0m: <PyCall.jlwrap (in a Julia function called from Python)\nJULIA: MethodError: no method matching (::Colon)(::Int64, ::Tuple{})\n\nClosest candidates are:\n  (::Colon)(::T, ::Any, !Matched::T) where T<:Real\n   @ Base range.jl:45\n  (::Colon)(::A, ::Any, !Matched::C) where {A<:Real, C<:Real}\n   @ Base range.jl:10\n  (::Colon)(::T, ::Any, !Matched::T) where T\n   @ Base range.jl:44\n  ...\n\nStacktrace:\n [1] ring_statistics(numatoms::Int64, nodlnkd::Vector{Vector{Int64}}, maxlvl::Int64, mxnodes::Int64, mxpths::Int64)\n   @ Main.rings ~/data/julia_rings/rings.jl:208\n [2] ring_statistics(numatoms::Int64, nodlnkd::Vector{Vector{Int64}})\n   @ Main.rings ~/data/julia_rings/rings.jl:208\n [3] invokelatest(::Any, ::Any, ::Vararg{Any}; kwargs::Base.Pairs{Symbol, Union{}, Tuple{}, NamedTuple{(), Tuple{}}})\n   @ Base ./essentials.jl:816\n [4] invokelatest(::Any, ::Any, ::Vararg{Any})\n   @ Base ./essentials.jl:813\n [5] _pyjlwrap_call(f::Function, args_::Ptr{PyCall.PyObject_struct}, kw_::Ptr{PyCall.PyObject_struct})\n   @ PyCall ~/.julia/packages/PyCall/ilqDX/src/callback.jl:28\n [6] pyjlwrap_call(self_::Ptr{PyCall.PyObject_struct}, args_::Ptr{PyCall.PyObject_struct}, kw_::Ptr{PyCall.PyObject_struct})\n   @ PyCall ~/.julia/packages/PyCall/ilqDX/src/callback.jl:44>"
     ]
    }
   ],
   "source": [
    "rs = Main.rings.ring_statistics(len(ats), neighs, refnodes)"
   ]
  },
  {
   "cell_type": "code",
   "execution_count": 33,
   "metadata": {},
   "outputs": [
    {
     "data": {
      "text/plain": [
       "array([[  1,   8],\n",
       "       [  1,   1],\n",
       "       [  1,   3],\n",
       "       ...,\n",
       "       [512, 236],\n",
       "       [512, 244],\n",
       "       [512, 505]])"
      ]
     },
     "execution_count": 33,
     "metadata": {},
     "output_type": "execute_result"
    }
   ],
   "source": [
    "nodlnkd"
   ]
  },
  {
   "cell_type": "code",
   "execution_count": 22,
   "metadata": {},
   "outputs": [
    {
     "ename": "JuliaError",
     "evalue": "Exception 'MethodError: no method matching ring_statistics()\n\nClosest candidates are:\n  ring_statistics(!Matched::Any, !Matched::Any)\n   @ Main.rings ~/data/julia_rings/rings.jl:205\n  ring_statistics(!Matched::Any, !Matched::Any, !Matched::Any)\n   @ Main.rings ~/data/julia_rings/rings.jl:205\n  ring_statistics(!Matched::Any, !Matched::Any, !Matched::Any, !Matched::Any)\n   @ Main.rings ~/data/julia_rings/rings.jl:205\n  ...\n' occurred while calling julia code:\nrings.ring_statistics()",
     "output_type": "error",
     "traceback": [
      "\u001b[0;31m---------------------------------------------------------------------------\u001b[0m",
      "\u001b[0;31mJuliaError\u001b[0m                                Traceback (most recent call last)",
      "Cell \u001b[0;32mIn[22], line 1\u001b[0m\n\u001b[0;32m----> 1\u001b[0m result \u001b[39m=\u001b[39m jl\u001b[39m.\u001b[39;49meval(\u001b[39m\"\u001b[39;49m\u001b[39mrings.ring_statistics()\u001b[39;49m\u001b[39m\"\u001b[39;49m)\n",
      "File \u001b[0;32m~/miniconda3/envs/rings/lib/python3.11/site-packages/julia/core.py:627\u001b[0m, in \u001b[0;36mJulia.eval\u001b[0;34m(self, src)\u001b[0m\n\u001b[1;32m    625\u001b[0m \u001b[39mif\u001b[39;00m src \u001b[39mis\u001b[39;00m \u001b[39mNone\u001b[39;00m:\n\u001b[1;32m    626\u001b[0m     \u001b[39mreturn\u001b[39;00m \u001b[39mNone\u001b[39;00m\n\u001b[0;32m--> 627\u001b[0m ans \u001b[39m=\u001b[39m \u001b[39mself\u001b[39;49m\u001b[39m.\u001b[39;49m_call(src)\n\u001b[1;32m    628\u001b[0m \u001b[39mif\u001b[39;00m \u001b[39mnot\u001b[39;00m ans:\n\u001b[1;32m    629\u001b[0m     \u001b[39mreturn\u001b[39;00m \u001b[39mNone\u001b[39;00m\n",
      "File \u001b[0;32m~/miniconda3/envs/rings/lib/python3.11/site-packages/julia/core.py:555\u001b[0m, in \u001b[0;36mJulia._call\u001b[0;34m(self, src)\u001b[0m\n\u001b[1;32m    553\u001b[0m \u001b[39m# logger.debug(\"_call(%s)\", src)\u001b[39;00m\n\u001b[1;32m    554\u001b[0m ans \u001b[39m=\u001b[39m \u001b[39mself\u001b[39m\u001b[39m.\u001b[39mapi\u001b[39m.\u001b[39mjl_eval_string(src\u001b[39m.\u001b[39mencode(\u001b[39m'\u001b[39m\u001b[39mutf-8\u001b[39m\u001b[39m'\u001b[39m))\n\u001b[0;32m--> 555\u001b[0m \u001b[39mself\u001b[39;49m\u001b[39m.\u001b[39;49mcheck_exception(src)\n\u001b[1;32m    557\u001b[0m \u001b[39mreturn\u001b[39;00m ans\n",
      "File \u001b[0;32m~/miniconda3/envs/rings/lib/python3.11/site-packages/julia/core.py:609\u001b[0m, in \u001b[0;36mJulia.check_exception\u001b[0;34m(self, src)\u001b[0m\n\u001b[1;32m    607\u001b[0m \u001b[39melse\u001b[39;00m:\n\u001b[1;32m    608\u001b[0m     exception \u001b[39m=\u001b[39m sprint(showerror, \u001b[39mself\u001b[39m\u001b[39m.\u001b[39m_as_pyobj(res))\n\u001b[0;32m--> 609\u001b[0m \u001b[39mraise\u001b[39;00m JuliaError(\u001b[39mu\u001b[39m\u001b[39m'\u001b[39m\u001b[39mException \u001b[39m\u001b[39m\\'\u001b[39;00m\u001b[39m{}\u001b[39;00m\u001b[39m\\'\u001b[39;00m\u001b[39m occurred while calling julia code:\u001b[39m\u001b[39m\\n\u001b[39;00m\u001b[39m{}\u001b[39;00m\u001b[39m'\u001b[39m\n\u001b[1;32m    610\u001b[0m                  \u001b[39m.\u001b[39mformat(exception, src))\n",
      "\u001b[0;31mJuliaError\u001b[0m: Exception 'MethodError: no method matching ring_statistics()\n\nClosest candidates are:\n  ring_statistics(!Matched::Any, !Matched::Any)\n   @ Main.rings ~/data/julia_rings/rings.jl:205\n  ring_statistics(!Matched::Any, !Matched::Any, !Matched::Any)\n   @ Main.rings ~/data/julia_rings/rings.jl:205\n  ring_statistics(!Matched::Any, !Matched::Any, !Matched::Any, !Matched::Any)\n   @ Main.rings ~/data/julia_rings/rings.jl:205\n  ...\n' occurred while calling julia code:\nrings.ring_statistics()"
     ]
    }
   ],
   "source": [
    "result = jl.eval(\"rings.ring_statistics()\")"
   ]
  },
  {
   "cell_type": "code",
   "execution_count": null,
   "metadata": {},
   "outputs": [],
   "source": []
  }
 ],
 "metadata": {
  "kernelspec": {
   "display_name": "Python 3",
   "language": "python",
   "name": "python3"
  },
  "language_info": {
   "codemirror_mode": {
    "name": "ipython",
    "version": 3
   },
   "file_extension": ".py",
   "mimetype": "text/x-python",
   "name": "python",
   "nbconvert_exporter": "python",
   "pygments_lexer": "ipython3",
   "version": "3.11.4"
  },
  "orig_nbformat": 4
 },
 "nbformat": 4,
 "nbformat_minor": 2
}
