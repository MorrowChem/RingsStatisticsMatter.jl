{
 "cells": [
  {
   "cell_type": "markdown",
   "metadata": {},
   "source": [
    "# Design principles and ideas\n",
    "\n",
    "dependencies:\n",
    "* should rid ourselvs of ASE/JuLIP is not maintained. Alternative would be to pass in necessary arrays through python. Nodlnkd is the main one, which is a list of bonds that can be readily calculated with the neighbourlist function of ASE (perhaps too slow?), Ovito (harder to download, but fast)\n",
    "\n",
    "* Parallelism: need to return a partial ring_statistics array and then sum"
   ]
  },
  {
   "cell_type": "code",
   "execution_count": 1,
   "metadata": {},
   "outputs": [
    {
     "name": "stderr",
     "output_type": "stream",
     "text": [
      "\u001b[36m\u001b[1m[ \u001b[22m\u001b[39m\u001b[36m\u001b[1mInfo: \u001b[22m\u001b[39mPrecompiling ASE [51974c44-a7ed-5088-b8be-3e78c8ba416c]\n",
      "\u001b[36m\u001b[1m[ \u001b[22m\u001b[39m\u001b[36m\u001b[1mInfo: \u001b[22m\u001b[39mSkipping precompilation since __precompile__(false). Importing ASE [51974c44-a7ed-5088-b8be-3e78c8ba416c].\n"
     ]
    }
   ],
   "source": [
    "using JuLIP\n",
    "using ASE"
   ]
  },
  {
   "cell_type": "code",
   "execution_count": 2,
   "metadata": {},
   "outputs": [
    {
     "data": {
      "text/plain": [
       "Atoms{Float64}(StaticArrays.SVector{3, Float64}[[2.39069138, 2.42041735, 1.85496588], [2.0158482, 0.70970138, 3.45161917], [5.62543507, 1.61573943, 0.78942348], [4.58066378, 3.27941693, 2.05973164], [9.0612224, 1.54711137, 2.50510266], [7.92254053, 1.88390615, 0.49954806], [10.83459653, 0.12846927, 2.86914238], [10.11613662, 3.64782069, 2.97192017], [0.9973343, 4.19617045, 2.53915534], [1.18467445, 6.45147861, 1.78155432]  …  [18.83791407, 16.58807644, 20.65288468], [20.51757624, 15.29600717, 21.6343675], [11.96334995, 21.76499536, 18.56820616], [19.81999296, 18.6393605, 20.19377962], [14.74754159, 18.77335164, 20.28472454], [14.8869553, 20.70020081, 21.60255581], [16.43418313, 19.31400318, 18.71958421], [17.16166486, 20.74203952, 0.03858163], [18.19157463, 20.25789827, 19.86229087], [21.4157931, 18.65542207, 18.48238305]], StaticArrays.SVector{3, Float64}[[0.0, 0.0, 0.0], [0.0, 0.0, 0.0], [0.0, 0.0, 0.0], [0.0, 0.0, 0.0], [0.0, 0.0, 0.0], [0.0, 0.0, 0.0], [0.0, 0.0, 0.0], [0.0, 0.0, 0.0], [0.0, 0.0, 0.0], [0.0, 0.0, 0.0]  …  [0.0, 0.0, 0.0], [0.0, 0.0, 0.0], [0.0, 0.0, 0.0], [0.0, 0.0, 0.0], [0.0, 0.0, 0.0], [0.0, 0.0, 0.0], [0.0, 0.0, 0.0], [0.0, 0.0, 0.0], [0.0, 0.0, 0.0], [0.0, 0.0, 0.0]], [28.085, 28.085, 28.085, 28.085, 28.085, 28.085, 28.085, 28.085, 28.085, 28.085  …  28.085, 28.085, 28.085, 28.085, 28.085, 28.085, 28.085, 28.085, 28.085, 28.085], Int16[14, 14, 14, 14, 14, 14, 14, 14, 14, 14  …  14, 14, 14, 14, 14, 14, 14, 14, 14, 14], [21.848854069638442 0.0 0.0; 0.0 21.848854069638442 0.0; 0.0 0.0 21.848854069638442], Bool[1, 1, 1], nothing, JuLIP.DofManager{Float64}(false, [1, 2, 3, 4, 5, 6, 7, 8, 9, 10  …  1527, 1528, 1529, 1530, 1531, 1532, 1533, 1534, 1535, 1536], JuLIP.LinearConstraint{Float64}[], StaticArrays.SVector{3, Float64}[], [0.0 0.0 0.0; 0.0 0.0 0.0; 0.0 0.0 0.0]), Dict{Any, JuLIP.JData{Float64}}())"
      ]
     },
     "execution_count": 2,
     "metadata": {},
     "output_type": "execute_result"
    }
   ],
   "source": [
    "at = Atoms(read_xyz(\"\"\"varMQ_11Ks_4096_500K_min.xyz\"\"\"))\n",
    "at = Atoms(read_xyz(\"\"\"aSi_500atom_11Ks_annealed.xyz\"\"\"))"
   ]
  },
  {
   "cell_type": "code",
   "execution_count": 3,
   "metadata": {},
   "outputs": [
    {
     "data": {
      "text/plain": [
       "\"\""
      ]
     },
     "execution_count": 3,
     "metadata": {},
     "output_type": "execute_result"
    }
   ],
   "source": [
    "pos = at.X\n",
    "c = at.cell\n",
    "inds = [1:size(at.X)[1];]\n",
    "\"\""
   ]
  },
  {
   "cell_type": "code",
   "execution_count": 4,
   "metadata": {},
   "outputs": [
    {
     "data": {
      "text/plain": [
       "(512,)"
      ]
     },
     "execution_count": 4,
     "metadata": {},
     "output_type": "execute_result"
    }
   ],
   "source": [
    "size(pos)"
   ]
  },
  {
   "cell_type": "code",
   "execution_count": 5,
   "metadata": {},
   "outputs": [
    {
     "data": {
      "text/plain": [
       "PairList{Float64, Int32}(StaticArrays.SVector{3, Float64}[[2.39069138, 2.42041735, 1.85496588], [2.0158482, 0.70970138, 3.45161917], [5.62543507, 1.61573943, 0.78942348], [4.58066378, 3.27941693, 2.05973164], [9.0612224, 1.54711137, 2.50510266], [7.92254053, 1.88390615, 0.49954806], [10.83459653, 0.12846927, 2.86914238], [10.11613662, 3.64782069, 2.97192017], [0.9973343, 4.19617045, 2.53915534], [1.18467445, 6.45147861, 1.78155432]  …  [18.83791407, 16.58807644, 20.65288468], [20.51757624, 15.29600717, 21.6343675], [11.96334995, 21.76499536, 18.56820616], [19.81999296, 18.6393605, 20.19377962], [14.74754159, 18.77335164, 20.28472454], [14.8869553, 20.70020081, 21.60255581], [16.43418313, 19.31400318, 18.71958421], [17.16166486, 20.74203952, 0.03858163], [18.19157463, 20.25789827, 19.86229087], [21.4157931, 18.65542207, 18.48238305]], [21.848854069638442 0.0 0.0; 0.0 21.848854069638442 0.0; 0.0 0.0 21.848854069638442], 2.85, Int32[1, 1, 1, 1, 2, 2, 2, 2, 3, 3  …  510, 510, 511, 511, 511, 511, 512, 512, 512, 512], Int32[2, 4, 9, 105, 1, 22, 163, 407, 4, 6  …  508, 511, 366, 506, 509, 510, 237, 245, 486, 506], StaticArrays.SVector{3, Int32}[[0, 0, 0], [0, 0, 0], [0, 0, 0], [0, 0, -1], [0, 0, 0], [0, 0, 0], [0, -1, 0], [-1, -1, 0], [0, 0, 0], [0, 0, 0]  …  [0, 0, -1], [0, 0, -1], [0, 1, 0], [0, 0, 0], [0, 0, 0], [0, 0, 1], [1, 0, 0], [1, 0, 0], [0, 0, 0], [0, 0, 0]], Int32[1, 5, 9, 13, 17, 21, 25, 29, 33, 37  …  2011, 2015, 2019, 2023, 2027, 2031, 2035, 2039, 2043, 2047])"
      ]
     },
     "execution_count": 5,
     "metadata": {},
     "output_type": "execute_result"
    }
   ],
   "source": [
    "nl = neighbourlist(at, 2.85)"
   ]
  },
  {
   "cell_type": "code",
   "execution_count": 6,
   "metadata": {},
   "outputs": [
    {
     "data": {
      "text/plain": [
       "\"\""
      ]
     },
     "execution_count": 6,
     "metadata": {},
     "output_type": "execute_result"
    }
   ],
   "source": [
    "nodlnkd = [nl.j[nl.i .== m] for m in 1:length(pos)]\n",
    "\"\""
   ]
  },
  {
   "cell_type": "code",
   "execution_count": 7,
   "metadata": {},
   "outputs": [
    {
     "data": {
      "text/plain": [
       "\"\""
      ]
     },
     "execution_count": 7,
     "metadata": {},
     "output_type": "execute_result"
    }
   ],
   "source": [
    "lnks = [length(nodlnkd[m]) for m in 1:length(pos)]\n",
    "\"\""
   ]
  },
  {
   "cell_type": "markdown",
   "metadata": {},
   "source": [
    "# Dijkstra"
   ]
  },
  {
   "cell_type": "code",
   "execution_count": 8,
   "metadata": {},
   "outputs": [
    {
     "data": {
      "text/plain": [
       "pass (generic function with 0 methods)"
      ]
     },
     "execution_count": 8,
     "metadata": {},
     "output_type": "execute_result"
    }
   ],
   "source": [
    "function pass\n",
    "end"
   ]
  },
  {
   "cell_type": "code",
   "execution_count": 9,
   "metadata": {},
   "outputs": [
    {
     "data": {
      "text/plain": [
       "dijkstra_nonwgt (generic function with 2 methods)"
      ]
     },
     "execution_count": 9,
     "metadata": {},
     "output_type": "execute_result"
    }
   ],
   "source": [
    "function dijkstra_nonwgt(nodsrc, lvlreq, lnks, nodlnkd, verbose=false)\n",
    "    if !verbose\n",
    "        println = pass\n",
    "    end\n",
    "    # initialise\n",
    "    lvldist = lvlreq + 100 .+ zeros(Int64, length(lnks))\n",
    "    lvldist[nodsrc] = 0\n",
    "\n",
    "    quebgn = 0\n",
    "    quend = 1\n",
    "    \n",
    "    queue = zeros(Int64, length(lnks))\n",
    "    queue[1] = nodsrc\n",
    "\n",
    "    while quebgn < quend\n",
    "        # println(\"start next node\")\n",
    "        quebgn += 1\n",
    "        nodcrt = queue[quebgn]\n",
    "        # println(\"nodcrt is \", nodcrt)\n",
    "        lvlprb = lvldist[nodcrt] + 1\n",
    "        # println(\"lvlprb is \", lvlprb)\n",
    "        for lnlscrt = 1:lnks[nodcrt]\n",
    "            nodprb = nodlnkd[nodcrt][lnlscrt]\n",
    "            # println(\"nodprb is \", nodprb)\n",
    "            if lvldist[nodprb] > lvlprb\n",
    "                lvldist[nodprb] = lvlprb\n",
    "                if lvlprb < lvlreq\n",
    "                    quend += 1\n",
    "                    queue[quend] = nodprb\n",
    "                    # println(queue[1:25])\n",
    "                end\n",
    "            end\n",
    "        end\n",
    "    end\n",
    "\n",
    "\n",
    "    return lvldist\n",
    "end"
   ]
  },
  {
   "cell_type": "code",
   "execution_count": 10,
   "metadata": {},
   "outputs": [
    {
     "data": {
      "text/plain": [
       "512-element Vector{Int64}:\n",
       " 0\n",
       " 1\n",
       " 2\n",
       " 1\n",
       " 4\n",
       " 3\n",
       " 5\n",
       " 5\n",
       " 1\n",
       " 2\n",
       " 3\n",
       " 3\n",
       " 2\n",
       " ⋮\n",
       " 7\n",
       " 7\n",
       " 6\n",
       " 6\n",
       " 6\n",
       " 5\n",
       " 8\n",
       " 7\n",
       " 7\n",
       " 6\n",
       " 6\n",
       " 4"
      ]
     },
     "execution_count": 10,
     "metadata": {},
     "output_type": "execute_result"
    }
   ],
   "source": [
    "lvldist = dijkstra_nonwgt(1, 10, lnks, nodlnkd)"
   ]
  },
  {
   "cell_type": "code",
   "execution_count": 11,
   "metadata": {},
   "outputs": [
    {
     "data": {
      "text/plain": [
       "512-element Vector{Int64}:\n",
       " 6\n",
       " 5\n",
       " 7\n",
       " 7\n",
       " 6\n",
       " 7\n",
       " 5\n",
       " 7\n",
       " 5\n",
       " 6\n",
       " 6\n",
       " 8\n",
       " 7\n",
       " ⋮\n",
       " 3\n",
       " 3\n",
       " 2\n",
       " 3\n",
       " 5\n",
       " 1\n",
       " 2\n",
       " 2\n",
       " 1\n",
       " 1\n",
       " 0\n",
       " 2"
      ]
     },
     "execution_count": 11,
     "metadata": {},
     "output_type": "execute_result"
    }
   ],
   "source": [
    "lvlref = dijkstra_nonwgt(511, 10, lnks, nodlnkd)"
   ]
  },
  {
   "cell_type": "markdown",
   "metadata": {},
   "source": [
    "# record shortest-paths"
   ]
  },
  {
   "cell_type": "code",
   "execution_count": 12,
   "metadata": {},
   "outputs": [
    {
     "data": {
      "text/plain": [
       "5-element view(::Matrix{Int64}, 1, :) with eltype Int64:\n",
       " 0\n",
       " 0\n",
       " 0\n",
       " 0\n",
       " 0"
      ]
     },
     "execution_count": 12,
     "metadata": {},
     "output_type": "execute_result"
    }
   ],
   "source": [
    "maxlvl = 10\n",
    "strpth = zeros(Int, Int(1e5), Int(maxlvl/2)) .- 1\n",
    "strpth[1,:] .= 0"
   ]
  },
  {
   "cell_type": "code",
   "execution_count": 13,
   "metadata": {},
   "outputs": [
    {
     "data": {
      "text/plain": [
       "strpth_record (generic function with 1 method)"
      ]
     },
     "execution_count": 13,
     "metadata": {},
     "output_type": "execute_result"
    }
   ],
   "source": [
    "maxlvl = 20\n",
    "maxnodes = 1e5\n",
    "mxlinks = 1e6\n",
    "mxpaths = 1e5\n",
    "strpthx = zeros(Int, Int(maxlvl/2))\n",
    "strpth =  zeros(Int, Int(maxlvl/2))\n",
    "lvldist = dijkstra_nonwgt(1, 10, lnks, nodlnkd)\n",
    "\n",
    "\n",
    "function strpth_record(nodcrt, lvlcrt, lvlprim, pths, strpth, strpthx)\n",
    "    # global pths\n",
    "    # global strpth\n",
    "    # global strpthx\n",
    "    # println(\"Doing strpth_record\")\n",
    "    for lnkscrt in 1:lnks[nodcrt]\n",
    "        nodprb = nodlnkd[nodcrt][lnkscrt]\n",
    "        lvlprb = lvldist[nodprb]\n",
    "        # @show nodcrt, lvlprb, lvlcrt, lnkscrt\n",
    "        if lvlprb == 0\n",
    "            pths += 1\n",
    "            for lvl in 1:lvlprim\n",
    "                strpth[pths, lvl] = strpthx[lvl]\n",
    "            end\n",
    "        elseif lvlprb == lvlcrt - 1\n",
    "            strpthx[lvlprb] = nodprb\n",
    "            pths, strpth, strpthx = strpth_record(nodprb, lvlprb, lvlprim, pths, strpth, strpthx)\n",
    "        end\n",
    "    end\n",
    "return pths, strpth, strpthx\n",
    "end"
   ]
  },
  {
   "cell_type": "code",
   "execution_count": 14,
   "metadata": {},
   "outputs": [
    {
     "data": {
      "text/plain": [
       "(2, [105 243 … 0 0; 105 106 … 0 0; … ; 0 0 … 0 0; 0 0 … 0 0], [105, 106, 247, 246, 0, 0, 0, 0, 0, 0])"
      ]
     },
     "execution_count": 14,
     "metadata": {},
     "output_type": "execute_result"
    }
   ],
   "source": [
    "pths = 0\n",
    "strpthx = zeros(Int, Int(maxlvl/2))\n",
    "strpth = zeros(Int, 10, Int(maxlvl/2))\n",
    "# nodcrt, lvlcrt, pths, lvlprim, lvldist, strpth\n",
    "i=240\n",
    "pths, strpth, strpthx = strpth_record(i, lvldist[i], lvldist[i], pths, strpth, strpthx)"
   ]
  },
  {
   "cell_type": "code",
   "execution_count": 15,
   "metadata": {},
   "outputs": [
    {
     "name": "stdout",
     "output_type": "stream",
     "text": [
      "pths = 2\n"
     ]
    },
    {
     "data": {
      "text/plain": [
       "10×10 Matrix{Int64}:\n",
       " 105  243  244  246  0  0  0  0  0  0\n",
       " 105  106  247  246  0  0  0  0  0  0\n",
       "   0    0    0    0  0  0  0  0  0  0\n",
       "   0    0    0    0  0  0  0  0  0  0\n",
       "   0    0    0    0  0  0  0  0  0  0\n",
       "   0    0    0    0  0  0  0  0  0  0\n",
       "   0    0    0    0  0  0  0  0  0  0\n",
       "   0    0    0    0  0  0  0  0  0  0\n",
       "   0    0    0    0  0  0  0  0  0  0\n",
       "   0    0    0    0  0  0  0  0  0  0"
      ]
     },
     "execution_count": 15,
     "metadata": {},
     "output_type": "execute_result"
    }
   ],
   "source": [
    "@show pths\n",
    "strpth\n"
   ]
  },
  {
   "cell_type": "code",
   "execution_count": 16,
   "metadata": {},
   "outputs": [
    {
     "name": "stdout",
     "output_type": "stream",
     "text": [
      "view(strpth, 1:4, 1:5) = [105 243 244 246 0; 105 106 247 246 0; 0 0 0 0 0; 0 0 0 0 0]\n"
     ]
    },
    {
     "data": {
      "text/plain": [
       "4×5 view(::Matrix{Int64}, 1:4, 1:5) with eltype Int64:\n",
       " 105  243  244  246  0\n",
       " 105  106  247  246  0\n",
       "   0    0    0    0  0\n",
       "   0    0    0    0  0"
      ]
     },
     "execution_count": 16,
     "metadata": {},
     "output_type": "execute_result"
    }
   ],
   "source": [
    "@show view(strpth, 1:4, 1:5)"
   ]
  },
  {
   "cell_type": "code",
   "execution_count": 382,
   "metadata": {},
   "outputs": [
    {
     "data": {
      "text/plain": [
       "prime_ring (generic function with 2 methods)"
      ]
     },
     "execution_count": 382,
     "metadata": {},
     "output_type": "execute_result"
    }
   ],
   "source": [
    "function prime_ring(iodd, lvlprim, lnks, lvldist, ringstat, nodlknkd, lvlref, querng, srtpth1, srtpth2, prime1, prime2, nodsrc)\n",
    "    global goal_found, limit, lvlref, ngf, rings\n",
    "    rngs = size(querng)[1]\n",
    "    # @show rngs\n",
    "    for irng in 1:rngs\n",
    "        # @show irng\n",
    "        pth1 = querng[irng][1]\n",
    "        pth2 = querng[irng][2]\n",
    "        cond = (nodsrc==214 && 2*lvlprim+iodd == 9 && prime1 in [101, 212])\n",
    "        if pth1 > 0\n",
    "            for lvlmax in lvlprim:lvlprim+iodd\n",
    "                for lvlchk in 1:lvlmax-1\n",
    "                    if cond && pth2 == 2\n",
    "                        println(\"Checking pth2\")\n",
    "                        @show lvlmax, lvlchk\n",
    "                    end\n",
    "\n",
    "                    # @show querng, lvlprim\n",
    "                    # @show lvlmax, lvlchk\n",
    "                    nodchk=srtpth1[pth1,lvlchk]\n",
    "                    nodmid=srtpth2[pth2,lvlmax-lvlchk]\n",
    "                    if cond\n",
    "                        @show nodchk, nodmid\n",
    "                    end\n",
    "\n",
    "                    if nodmid == 0\n",
    "                        nodmid = prime2\n",
    "                    end\n",
    "                    if nodchk == 0\n",
    "                        nodchk = prime1\n",
    "                    end\n",
    "                    # @show view(srtpth1, 1:4, 1:5)\n",
    "                    # @show view(srtpth2, 1:4, 1:5)\n",
    "\n",
    "                    # @show nodchk, nodmid\n",
    "                    limit[1:5, 1] = [lvlref[i][nodmid]+lvlprim-1 for i in 1:5]\n",
    "                    limit[1:5, 2] = [lvlref[i][nodmid]-lvlprim+1 for i in 1:5]\n",
    "                    limit[5, 2] = lvldist[nodmid] + lvlprim - 1\n",
    "                    limit[5, 2] = lvldist[nodmid] - lvlprim + 1\n",
    "                    if nodsrc==214 && 2*lvlprim+iodd == 9 && prime1 in [101, 212]\n",
    "                        s1 = view(srtpth1, 1:3, 1:3)\n",
    "                        s2 = view(srtpth2, 1:3, 1:3)\n",
    "                        @show querng, pth1, pth2, nodchk, nodmid, s1, s2\n",
    "                    end\n",
    "                    pair_search(nodchk, nodmid, limit, goal_found)\n",
    "                    if goal_found\n",
    "                        goal_found = false\n",
    "                        ngf[iodd+1] += 1\n",
    "                        if cond\n",
    "                            println(\"Eliminated using \", (nodchk, nodmid))\n",
    "                        end\n",
    "                        # if nodsrc==214 && 2*lvlprim+iodd == 9\n",
    "                        #     @show nodchk, nodmid\n",
    "                        # end\n",
    "                        for irgx in irng+1:rngs\n",
    "                            p1x = querng[irgx][1]\n",
    "                            p2x = querng[irgx][2]\n",
    "                            # @show p1x, p2x\n",
    "                            if p1x > 0\n",
    "                                if srtpth1[p1x, lvlchk]==nodchk && srtpth1[p2x, lvlmax-lvlchk]==nodmid\n",
    "                                    # println(\"unsetting\")\n",
    "                                    querng[irgx][1] = 0\n",
    "                                end\n",
    "                                if srtpth1[p2x, lvlchk]==nodchk && srtpth1[p1x, lvlmax-lvlchk]==nodmid\n",
    "                                    # println(\"unsetting\")\n",
    "                                    querng[irgx][1] = 0\n",
    "                                end\n",
    "                                if srtpth1[p2x, lvlchk]==nodchk && srtpth2[p1x, lvlmax-lvlchk]==nodmid\n",
    "                                    # println(\"unsetting\")\n",
    "                                    querng[irgx][1] = 0\n",
    "                                end\n",
    "                                if srtpth2[p2x, lvlchk]==nodchk && srtpth1[p1x, lvlmax-lvlchk]==nodmid\n",
    "                                    # println(\"unsetting\")\n",
    "                                    querng[irgx][1] = 0\n",
    "                                end\n",
    "                            end\n",
    "                        end\n",
    "                        # println(\"Going to next ring\")\n",
    "                        @goto next_ring\n",
    "                    end\n",
    "                end\n",
    "            end\n",
    "            rs = 2*lvlprim+iodd\n",
    "            ringstat[rs] += 1 #1/(iodd+1)\n",
    "            lr = true\n",
    "            if cond\n",
    "                println(\"legit ring found of size \", rs)\n",
    "            end\n",
    "            # @show vcat([[nodsrc,], pth1, pth2, [prime1,], [prime2,]]...)\n",
    "            # println(\"here\")\n",
    "            r = collect(Iterators.flatten(\n",
    "                [[nodsrc,], srtpth1[pth1, 1:Int((rs-(2+iodd))/2)], [prime1,], [prime2,], srtpth2[pth2, 1:Int((rs-(2+iodd))/2)]]))\n",
    "            if cond\n",
    "                println(r)   \n",
    "            end\n",
    "            push!(rings[rs],\n",
    "                r\n",
    "            )\n",
    "        end \n",
    "    # println(\"Jumped here\")    \n",
    "    @label next_ring\n",
    "    end\n",
    "return \n",
    "end\n",
    "\n"
   ]
  },
  {
   "cell_type": "code",
   "execution_count": 280,
   "metadata": {},
   "outputs": [
    {
     "data": {
      "text/plain": [
       "5-element Vector{Int64}:\n",
       " 506\n",
       " 511\n",
       "   0\n",
       "   0\n",
       "   0"
      ]
     },
     "execution_count": 280,
     "metadata": {},
     "output_type": "execute_result"
    }
   ],
   "source": [
    "strpth[1, :]"
   ]
  },
  {
   "cell_type": "code",
   "execution_count": 335,
   "metadata": {},
   "outputs": [
    {
     "data": {
      "text/plain": [
       "pair_search (generic function with 1 method)"
      ]
     },
     "execution_count": 335,
     "metadata": {},
     "output_type": "execute_result"
    }
   ],
   "source": [
    "function pair_search(nodcrt, nodgoal, limit, goal_found)\n",
    "    # Input: goal_found, nodcrt, nodgoal, lnks(), lvldist(), nodlnkd(), lvlref(), limit()\n",
    "    # Output: goal_found\n",
    "    # Internal: lmtx()\n",
    "    global goal_found, lnks, nodlnkd, lvlref, lvldist\n",
    "    # print(\"Doing pair_search\")\n",
    "    \n",
    "    if nodcrt == nodgoal\n",
    "        # Goal found\n",
    "        # println(\"Goal found!\")\n",
    "        goal_found = true\n",
    "        return\n",
    "    end\n",
    "    # @show nodcrt\n",
    "    for lnkscrt in 1:lnks[nodcrt]\n",
    "        next_search = false\n",
    "        \n",
    "        nodprb = nodlnkd[nodcrt][lnkscrt]\n",
    "        # @show lnkscrt, nodprb\n",
    "\n",
    "        for iref in 1:4\n",
    "            # @show lvlref[iref][nodprb], limit\n",
    "            if lvlref[iref][nodprb] >= limit[iref, 1] || lvlref[iref][nodprb] <= limit[iref, 2]\n",
    "                # println(\"going to next search stage 1 at iref \", iref)\n",
    "                @goto next_search\n",
    "            end\n",
    "        end\n",
    "        \n",
    "        if lvldist[nodprb] >= limit[5, 1] || lvldist[nodprb] < limit[5, 2]\n",
    "            # println(\"going to next search stage 2\")\n",
    "            @goto next_search\n",
    "            # continue\n",
    "        end\n",
    "        \n",
    "        lmtx = zeros(Int, 5, 2)\n",
    "        for iref in 1:5\n",
    "            lmtx[iref, 1] = limit[iref, 1]\n",
    "            lmtx[iref, 2] = limit[iref, 2] + 1\n",
    "        end\n",
    "        # println(\"Pair searching one deeper\")\n",
    "        pair_search(nodprb, nodgoal, lmtx, goal_found)\n",
    "        \n",
    "        if goal_found\n",
    "            return\n",
    "        end\n",
    "        @label next_search\n",
    "    end\n",
    "    \n",
    "end\n"
   ]
  },
  {
   "cell_type": "code",
   "execution_count": 157,
   "metadata": {},
   "outputs": [
    {
     "name": "stdout",
     "output_type": "stream",
     "text": [
      "lvlprim = 4\n",
      "limit = [11 5; 8 2; 6 0; 8 2; 7 1]\n",
      "Doing pair_searchnodcrt = 1\n",
      "(lnkscrt, nodprb) = (1, 2)\n",
      "((lvlref[iref])[nodprb], limit) = (6, [11 5; 8 2; 6 0; 8 2; 7 1])\n",
      "((lvlref[iref])[nodprb], limit) = (7, [11 5; 8 2; 6 0; 8 2; 7 1])\n",
      "((lvlref[iref])[nodprb], limit) = (4, [11 5; 8 2; 6 0; 8 2; 7 1])\n",
      "((lvlref[iref])[nodprb], limit) = (7, [11 5; 8 2; 6 0; 8 2; 7 1])\n"
     ]
    },
    {
     "ename": "LoadError",
     "evalue": "UndefVarError: `iref` not defined",
     "output_type": "error",
     "traceback": [
      "UndefVarError: `iref` not defined",
      "",
      "Stacktrace:",
      " [1] pair_search(nodcrt::Int64, nodgoal::Int64, limit::Matrix{Int64}, goal_found::Bool)",
      "   @ Main ./In[67]:30",
      " [2] top-level scope",
      "   @ In[157]:17"
     ]
    }
   ],
   "source": [
    "limit = zeros(Int, 5, 2)\n",
    "\n",
    "lvlref = [dijkstra_nonwgt(i, 10, lnks, nodlnkd) for i in [50, 150, 250, 400, 1]]\n",
    "# need to initialise limit\n",
    "nodmid = 239\n",
    "lvlprim = lvldist[nodmid]\n",
    "@show lvlprim\n",
    "limit[:, 1] = [lvlref[i][nodmid]+lvlprim-1 for i in 1:5]\n",
    "limit[:, 2] = [lvlref[i][nodmid]-lvlprim+1 for i in 1:5]\n",
    "limit[5, 1] = lvldist[nodmid] + lvlprim - 1\n",
    "limit[5, 2] = lvldist[nodmid] - lvlprim + 1\n",
    "@show limit\n",
    "goal_found = false\n",
    "mxnodes = Int(1e4)\n",
    "nodcrt = 1\n",
    "lvlcrt = lvldist[nodcrt]\n",
    "pair_search(nodcrt, 5, limit, goal_found)"
   ]
  },
  {
   "cell_type": "markdown",
   "metadata": {},
   "source": [
    "# Putting together into program"
   ]
  },
  {
   "cell_type": "code",
   "execution_count": 185,
   "metadata": {},
   "outputs": [
    {
     "data": {
      "text/plain": [
       "\"rings_out.log\""
      ]
     },
     "execution_count": 185,
     "metadata": {},
     "output_type": "execute_result"
    }
   ],
   "source": [
    "using Base\n",
    "output_file_path = \"rings_out.log\"\n"
   ]
  },
  {
   "cell_type": "code",
   "execution_count": 184,
   "metadata": {},
   "outputs": [],
   "source": [
    "# Define a custom show method with truncation\n",
    "function Base.show(io::IO, x::Matrix{T}) where T\n",
    "    show(IOContext(io, :limit => 20), x)\n",
    "end"
   ]
  },
  {
   "cell_type": "code",
   "execution_count": 284,
   "metadata": {},
   "outputs": [
    {
     "data": {
      "text/plain": [
       "4-element Vector{Int64}:\n",
       " 1\n",
       " 2\n",
       " 2\n",
       " 3"
      ]
     },
     "execution_count": 284,
     "metadata": {},
     "output_type": "execute_result"
    }
   ],
   "source": [
    "a = collect(Iterators.flatten([[1,2], [2,3], [4,]]))[1:4]"
   ]
  },
  {
   "cell_type": "code",
   "execution_count": 256,
   "metadata": {},
   "outputs": [
    {
     "data": {
      "text/plain": [
       "(Vector{Int64}[], [1, 2, 2, 3, 4])"
      ]
     },
     "execution_count": 256,
     "metadata": {},
     "output_type": "execute_result"
    }
   ],
   "source": [
    "rings[9], a"
   ]
  },
  {
   "cell_type": "code",
   "execution_count": 261,
   "metadata": {},
   "outputs": [
    {
     "data": {
      "text/plain": [
       "1-element Vector{Vector{Int64}}:\n",
       " [1, 2, 2, 3, 4]"
      ]
     },
     "execution_count": 261,
     "metadata": {},
     "output_type": "execute_result"
    }
   ],
   "source": [
    "push!(rings[9], a)"
   ]
  },
  {
   "cell_type": "code",
   "execution_count": 259,
   "metadata": {},
   "outputs": [
    {
     "data": {
      "text/plain": [
       "6-element Vector{Vector{Int64}}:\n",
       " #undef\n",
       " #undef\n",
       " #undef\n",
       " #undef\n",
       " #undef\n",
       "    [1, 2, 2, 3, 4]"
      ]
     },
     "execution_count": 259,
     "metadata": {},
     "output_type": "execute_result"
    }
   ],
   "source": [
    "rings[9]"
   ]
  },
  {
   "cell_type": "code",
   "execution_count": 383,
   "metadata": {},
   "outputs": [
    {
     "name": "stdout",
     "output_type": "stream",
     "text": [
      "(nodchk, nodmid) = (215, 189)\n",
      "(querng, pth1, pth2, nodchk, nodmid, s1, s2) = (Any[[1, 1], [1, 2], [2, 1], [2, 2]], 1, 1, 215, 189, [215 102 100; 215 235 118; 0 0 0], [191 192 189; 223 222 213; 0 0 0])\n",
      "(nodchk, nodmid) = (102, 192)\n",
      "(querng, pth1, pth2, nodchk, nodmid, s1, s2) = (Any[[1, 1], [1, 2], [2, 1], [2, 2]], 1, 1, 102, 192, [215 102 100; 215 235 118; 0 0 0], [191 192 189; 223 222 213; 0 0 0])\n",
      "(nodchk, nodmid) = (100, 191)\n",
      "(querng, pth1, pth2, nodchk, nodmid, s1, s2) = (Any[[1, 1], [1, 2], [2, 1], [2, 2]], 1, 1, 100, 191, [215 102 100; 215 235 118; 0 0 0], [191 192 189; 223 222 213; 0 0 0])\n",
      "(nodchk, nodmid) = (215, 0)\n",
      "(querng, pth1, pth2, nodchk, nodmid, s1, s2) = (Any[[1, 1], [1, 2], [2, 1], [2, 2]], 1, 1, 215, 212, [215 102 100; 215 235 118; 0 0 0], [191 192 189; 223 222 213; 0 0 0])\n",
      "(nodchk, nodmid) = (102, 189)\n",
      "(querng, pth1, pth2, nodchk, nodmid, s1, s2) = (Any[[1, 1], [1, 2], [2, 1], [2, 2]], 1, 1, 102, 189, [215 102 100; 215 235 118; 0 0 0], [191 192 189; 223 222 213; 0 0 0])\n",
      "(nodchk, nodmid) = (100, 192)\n",
      "(querng, pth1, pth2, nodchk, nodmid, s1, s2) = (Any[[1, 1], [1, 2], [2, 1], [2, 2]], 1, 1, 100, 192, [215 102 100; 215 235 118; 0 0 0], [191 192 189; 223 222 213; 0 0 0])\n",
      "(nodchk, nodmid) = (0, 191)\n",
      "(querng, pth1, pth2, nodchk, nodmid, s1, s2) = (Any[[1, 1], [1, 2], [2, 1], [2, 2]], 1, 1, 101, 191, [215 102 100; 215 235 118; 0 0 0], [191 192 189; 223 222 213; 0 0 0])\n",
      "legit ring found of size 9\n",
      "[214, 215, 102, 100, 101, 212, 191, 192, 189]\n",
      "Checking pth2\n",
      "(lvlmax, lvlchk) = (4, 1)\n",
      "(nodchk, nodmid) = (215, 213)\n",
      "(querng, pth1, pth2, nodchk, nodmid, s1, s2) = (Any[[1, 1], [1, 2], [2, 1], [2, 2]], 1, 2, 215, 213, [215 102 100; 215 235 118; 0 0 0], [191 192 189; 223 222 213; 0 0 0])\n",
      "Eliminated using (215, 213)\n"
     ]
    }
   ],
   "source": [
    "# global parameters\n",
    "maxlvl = L = 10\n",
    "ringstat = zeros(Float64, 2*maxlvl)\n",
    "limit = zeros(Int, 5, 2)\n",
    "goal_found = false\n",
    "ngf = [0, 0]\n",
    "mxnodes = Int(1e4)\n",
    "mxpths = 10000\n",
    "rings = [Vector{Vector{Int64}}() for i in range(1,20)]\n",
    "\n",
    "\n",
    "# open(output_file_path, \"w\") do io\n",
    "#     redirect_stdout(io) do\n",
    "\n",
    "for nodsrc in 1:512 #length(pos)\n",
    "    # flush(stdout)\n",
    "    # flush(io)\n",
    "    # @show nodsrc\n",
    "    # for one node\n",
    "    lvlref = [dijkstra_nonwgt(i, 30, lnks, nodlnkd) for i in [50, 150, 250, 400, 1]]\n",
    "\n",
    "    # nodsrc = 1\n",
    "    lvldist = dijkstra_nonwgt(nodsrc, maxlvl, lnks, nodlnkd)\n",
    "\n",
    "    # find all the prime-mid-nodes\n",
    "    primes = findall(x -> x<(L-maxlvl%2)/2 && x>1, lvldist)\n",
    "    prime_mid_nodes = []\n",
    "\n",
    "    # check each prime-mid-node\n",
    "    primes_done = []\n",
    "    for prime in primes\n",
    "        # even ring case here\n",
    "        \n",
    "        if size(findall([lvldist[n] == lvldist[prime]-1 for n in nodlnkd[prime]]))[1] > 1\n",
    "            # println(\"checking even prime \", prime)\n",
    "            push!(prime_mid_nodes, prime)\n",
    "            \n",
    "            # if nodlnkd[prime] in primes\n",
    "            \n",
    "            # find shortest paths to source from this prime-mid-node\n",
    "            pths = 0\n",
    "            strpth = zeros(Int, mxpths, Int(maxlvl/2))\n",
    "            strpthx = zeros(Int, Int(maxlvl/2))\n",
    "            querng = []\n",
    "            \n",
    "            # @show prime, lvldist[prime]\n",
    "            pths, strpth, strpthx = strpth_record(prime, lvldist[prime], lvldist[prime], pths, strpth, strpthx)\n",
    "            # @show pths, strpth\n",
    "            \n",
    "            # check if there is a ring containing this prime-mid-node and source\n",
    "            for pth1 in 1:pths\n",
    "                for pth2 in pth1:pths\n",
    "                    inter = intersect(strpth[pth1], strpth[pth2])\n",
    "                    # @show inter\n",
    "                    if intersect(strpth[pth1], strpth[pth2]) in [[0], []]\n",
    "                        # println(\"pushing \", [prime, strpth[pth1, :], strpth[pth2, :], nodsrc])\n",
    "                        push!(querng, [pth1, pth2])\n",
    "                    end\n",
    "                end\n",
    "            end\n",
    "\n",
    "            # check if is prime ring\n",
    "            # @show querng\n",
    "            prime_ring(0, lvldist[prime], lnks, lvldist, ringstat, nodlnkd, lvlref, querng, strpth, strpth, prime, prime, nodsrc)\n",
    "            # @show querng\n",
    "\n",
    "        end\n",
    "\n",
    "        # odd ring case here\n",
    "        equal_lvls = findall([lvldist[n] == lvldist[prime] for n in nodlnkd[prime]])\n",
    "        # @show equal_lvls\n",
    "        if size(equal_lvls)[1] > 0\n",
    "            # println(\"checking odd prime \", prime)\n",
    "            push!(prime_mid_nodes, prime)\n",
    "\n",
    "            prime1 = prime\n",
    "            # find shortest paths to source from this prime-mid-node\n",
    "            pths = 0\n",
    "            strpth = zeros(Int, mxpths, Int(maxlvl/2))\n",
    "            strpthx = zeros(Int, Int(maxlvl/2))\n",
    "            \n",
    "            # @show prime, lvldist[prime]\n",
    "            pths, strpth, strpthx = strpth_record(prime1, lvldist[prime1], lvldist[prime1], pths, strpth, strpthx)\n",
    "            # @show pths, strpth\n",
    "            for prime2 in nodlnkd[prime1][equal_lvls]\n",
    "                # @show prime2\n",
    "                if prime2 < prime1\n",
    "                    continue\n",
    "                end\n",
    "                # if prime2 in primes_done\n",
    "                #     println(\"prime2 already done \", prime2)\n",
    "                #     continue\n",
    "                # end\n",
    "                # push!(primes_done, prime2)\n",
    "                querng = []\n",
    "                \n",
    "                pths2 = 0\n",
    "                strpth2 = zeros(Int, mxpths, Int(maxlvl/2))\n",
    "                strpthx2 = zeros(Int, Int(maxlvl/2))\n",
    "                pths2, strpth2, strpthx2 = strpth_record(prime2, lvldist[prime2], lvldist[prime2], pths2, strpth2, strpthx2)\n",
    "\n",
    "                # check both sets of shortest paths for rings\n",
    "                # @show pths, pths2\n",
    "                for pth1 in 1:pths\n",
    "                    for pth2 in 1:pths2\n",
    "                        inter = intersect(strpth[pth1], strpth2[pth2])\n",
    "                        # @show inter\n",
    "                        if inter in [[0], []]\n",
    "                            # println(\"pushing \", [prime, strpth[pth1, :], strpth2[pth2, :], nodsrc])\n",
    "                            push!(querng, [pth1, pth2])\n",
    "                        end\n",
    "                    end\n",
    "                end \n",
    "                \n",
    "                # check if is prime ring\n",
    "                # display(strpth2[1:3])\n",
    "                # @show lvldist[prime1], lvldist[prime2]\n",
    "                # @show querng\n",
    "                prime_ring(1, lvldist[prime], lnks, lvldist, ringstat, nodlnkd, lvlref, querng, strpth, strpth2, prime1, prime2, nodsrc)\n",
    "                # @show querng\n",
    "            end\n",
    "            # push!(primes_done, prime1)\n",
    "\n",
    "\n",
    "        end\n",
    "    end\n",
    "end\n",
    "\n",
    "# end\n",
    "# end\n"
   ]
  },
  {
   "cell_type": "code",
   "execution_count": 375,
   "metadata": {},
   "outputs": [
    {
     "data": {
      "text/plain": [
       "2-element Vector{Int64}:\n",
       " 3514\n",
       " 7068"
      ]
     },
     "execution_count": 375,
     "metadata": {},
     "output_type": "execute_result"
    }
   ],
   "source": [
    "ngf"
   ]
  },
  {
   "cell_type": "code",
   "execution_count": 385,
   "metadata": {},
   "outputs": [
    {
     "data": {
      "text/plain": [
       "2-element Vector{Vector{Int64}}:\n",
       " [214, 215, 102, 100, 101, 212, 191, 192, 189]\n",
       " [214, 473, 451, 351, 325, 344, 215, 102, 103]"
      ]
     },
     "execution_count": 385,
     "metadata": {},
     "output_type": "execute_result"
    }
   ],
   "source": [
    "[i for i in rings[9] if i[1]==214]\n"
   ]
  },
  {
   "cell_type": "code",
   "execution_count": 377,
   "metadata": {},
   "outputs": [
    {
     "data": {
      "text/plain": [
       "2-element Vector{Vector{Int64}}:\n",
       " [100, 101, 102, 189, 191, 192, 212, 214, 215]\n",
       " [102, 103, 214, 215, 325, 344, 351, 451, 473]"
      ]
     },
     "execution_count": 377,
     "metadata": {},
     "output_type": "execute_result"
    }
   ],
   "source": [
    "[sort(collect(i)) for i in rings[9] if i[1]==214]"
   ]
  },
  {
   "cell_type": "code",
   "execution_count": 386,
   "metadata": {},
   "outputs": [
    {
     "data": {
      "text/plain": [
       "107-element Vector{Int64}:\n",
       "  10\n",
       "  11\n",
       "  26\n",
       "  29\n",
       "  67\n",
       "  72\n",
       "  74\n",
       "  75\n",
       "  82\n",
       "  83\n",
       "  83\n",
       "  85\n",
       "  86\n",
       "   ⋮\n",
       " 423\n",
       " 435\n",
       " 436\n",
       " 451\n",
       " 458\n",
       " 471\n",
       " 473\n",
       " 480\n",
       " 496\n",
       " 496\n",
       " 508\n",
       " 510"
      ]
     },
     "execution_count": 386,
     "metadata": {},
     "output_type": "execute_result"
    }
   ],
   "source": [
    "r_set = [Set(i) for i in rings[9]]\n",
    "srcs = [i[1] for i in rings[9]]"
   ]
  },
  {
   "cell_type": "code",
   "execution_count": 387,
   "metadata": {},
   "outputs": [
    {
     "name": "stdout",
     "output_type": "stream",
     "text": [
      "Sets with duplicates:\n",
      "[72, 74, 75, 83, 93, 96, 103, 325, 344] 9 Srcs \n",
      "[72, 74, 75, 83, 93, 96, 103, 325, 344]\n",
      "\n",
      "\n",
      "[82, 83, 102, 121, 215, 325, 351, 352, 376] 7 Srcs \n",
      "[82, 83, 121, 215, 351, 352, 376]\n",
      "\n",
      "\n",
      "[67, 85, 86, 92, 321, 322, 341, 342, 471] 9 Srcs \n",
      "[67, 85, 86, 92, 321, 322, 341, 342, 471]\n",
      "\n",
      "\n",
      "[102, 103, 214, 215, 325, 344, 351, 451, 473] 9 Srcs \n",
      "[102, 103, 214, 215, 325, 344, 351, 451, 473]\n",
      "\n",
      "\n",
      "[10, 11, 29, 116, 117, 124, 125, 146, 292] 9 Srcs \n",
      "[10, 11, 29, 116, 117, 124, 125, 146, 292]\n",
      "\n",
      "\n",
      "[160, 408, 409, 411, 416, 417, 435, 436, 437] 7 Srcs \n",
      "[160, 408, 411, 416, 417, 435, 436]\n",
      "\n",
      "\n",
      "[192, 198, 199, 200, 208, 222, 223, 227, 480] 9 Srcs \n",
      "[192, 198, 199, 200, 208, 222, 223, 227, 480]\n",
      "\n",
      "\n",
      "[252, 253, 275, 401, 402, 403, 423, 508, 510] 9 Srcs \n",
      "[252, 253, 275, 401, 402, 403, 423, 508, 510]\n",
      "\n",
      "\n",
      "[100, 101, 102, 189, 191, 192, 212, 214, 215] 9 Srcs \n",
      "[100, 101, 102, 189, 191, 192, 212, 214, 215]\n",
      "\n",
      "\n",
      "[191, 192, 200, 208, 219, 222, 227, 229, 458] 7 Srcs \n",
      "[191, 192, 208, 219, 222, 229, 458]\n",
      "\n",
      "\n",
      "[101, 118, 189, 191, 192, 212, 214, 215, 235] 8 Srcs \n",
      "[101, 118, 189, 191, 192, 212, 215, 235]\n",
      "\n",
      "\n",
      "[94, 98, 99, 116, 117, 119, 357, 382, 496] 7 Srcs \n",
      "[94, 98, 117, 119, 357, 382, 496]\n",
      "\n",
      "\n",
      "[353, 355, 357, 371, 381, 382, 383, 478, 496] 7 Srcs \n",
      "[353, 355, 371, 381, 382, 383, 496]\n",
      "\n",
      "\n",
      "\n",
      "Sets without duplicates:\n",
      "[2, 21, 22, 23, 24, 26, 30, 142, 163]\n"
     ]
    }
   ],
   "source": [
    "# Initialize dictionaries to store duplicates and non-duplicates\n",
    "duplicate_sets = Dict{Set{Int}, Vector{Int}}()\n",
    "non_duplicate_sets = Dict{Set{Int}, Vector{Int}}()\n",
    "dup_cts = Dict{Set{Int}, Int}()\n",
    "set_srcs = Dict{Set{Int}, Set{Int}}()\n",
    "\n",
    "# Iterate through the array of sets\n",
    "for (index, s) in enumerate(r_set)\n",
    "    if haskey(duplicate_sets, s)\n",
    "        push!(duplicate_sets[s], index)\n",
    "        push!(set_srcs[s], srcs[index])\n",
    "        dup_cts[s] += 1\n",
    "    elseif haskey(non_duplicate_sets, s)\n",
    "        # println(\"Moving dups\")\n",
    "        duplicate_sets[s] = non_duplicate_sets[s]\n",
    "        dup_cts[s] = 2\n",
    "        push!(duplicate_sets[s], index)\n",
    "        push!(set_srcs[s], srcs[index])\n",
    "        delete!(non_duplicate_sets, s)\n",
    "    else\n",
    "        non_duplicate_sets[s] = [index]\n",
    "        set_srcs[s] = Set([srcs[index]])\n",
    "    end\n",
    "end\n",
    "\n",
    "# Extract sets with duplicates and non-duplicates\n",
    "sets_with_duplicates = [key for (key, value) in duplicate_sets]\n",
    "sets_without_duplicates = [key for (key, value) in non_duplicate_sets]\n",
    "\n",
    "# Print results\n",
    "println(\"Sets with duplicates:\")\n",
    "for s in sets_with_duplicates\n",
    "    println(sort(collect(s)), \" \", dup_cts[s], \" Srcs \\n\", sort(collect(set_srcs[s])), \"\\n\\n\")\n",
    "end\n",
    "\n",
    "println(\"\\nSets without duplicates:\")\n",
    "for s in sets_without_duplicates\n",
    "    println(sort(collect(s)))\n",
    "end"
   ]
  },
  {
   "cell_type": "code",
   "execution_count": 189,
   "metadata": {},
   "outputs": [
    {
     "data": {
      "text/plain": [
       "2-element Vector{Int64}:\n",
       "  3514\n",
       " 14141"
      ]
     },
     "execution_count": 189,
     "metadata": {},
     "output_type": "execute_result"
    }
   ],
   "source": [
    "ngf"
   ]
  },
  {
   "cell_type": "code",
   "execution_count": 301,
   "metadata": {},
   "outputs": [
    {
     "data": {
      "text/plain": [
       "10-element Vector{Int64}:\n",
       "  1\n",
       "  3\n",
       "  5\n",
       "  7\n",
       "  9\n",
       " 11\n",
       " 13\n",
       " 15\n",
       " 17\n",
       " 19"
      ]
     },
     "execution_count": 301,
     "metadata": {},
     "output_type": "execute_result"
    }
   ],
   "source": [
    "sf = [i for i in range(1,20)]\n",
    "sf[1:2:20] = sf[1:2:20]"
   ]
  },
  {
   "cell_type": "code",
   "execution_count": 182,
   "metadata": {},
   "outputs": [
    {
     "data": {
      "text/plain": [
       "24.0"
      ]
     },
     "execution_count": 182,
     "metadata": {},
     "output_type": "execute_result"
    }
   ],
   "source": [
    "(217-1)/9"
   ]
  },
  {
   "cell_type": "code",
   "execution_count": 302,
   "metadata": {},
   "outputs": [
    {
     "data": {
      "text/plain": [
       "20-element Vector{Float64}:\n",
       "    0.0\n",
       "    0.0\n",
       "    0.0\n",
       "   20.0\n",
       "  960.0\n",
       " 2874.0\n",
       " 1801.0\n",
       "  480.0\n",
       "  107.0\n",
       "    0.0\n",
       "    0.0\n",
       "    0.0\n",
       "    0.0\n",
       "    0.0\n",
       "    0.0\n",
       "    0.0\n",
       "    0.0\n",
       "    0.0\n",
       "    0.0\n",
       "    0.0"
      ]
     },
     "execution_count": 302,
     "metadata": {},
     "output_type": "execute_result"
    }
   ],
   "source": [
    "ringstat"
   ]
  },
  {
   "cell_type": "code",
   "execution_count": 303,
   "metadata": {},
   "outputs": [
    {
     "data": {
      "text/plain": [
       "([0.0, 0.0, 0.0, 5.0, 192.0, 479.0, 257.2857142857143, 60.0, 11.88888888888889, 0.0, 0.0, 0.0, 0.0, 0.0, 0.0, 0.0, 0.0, 0.0, 0.0, 0.0], 1005.1746031746031)"
      ]
     },
     "execution_count": 303,
     "metadata": {},
     "output_type": "execute_result"
    }
   ],
   "source": [
    "norm_ringstat = zeros(Float64, 20)\n",
    "norm_ringstat[2:2:20] .= ringstat[2:2:20]\n",
    "norm_ringstat[1:2:20] .= ringstat[1:2:20]\n",
    "# norm_ringstat[5:2:20] .=  (norm_ringstat[5:2:20] - 1)/2\n",
    "norm_ringstat ./ sf, sum(norm_ringstat ./ sf)"
   ]
  },
  {
   "cell_type": "markdown",
   "metadata": {},
   "source": [
    "# Testing ground"
   ]
  },
  {
   "cell_type": "code",
   "execution_count": 166,
   "metadata": {},
   "outputs": [],
   "source": [
    "# using Plots\n",
    "# using Distributions"
   ]
  },
  {
   "cell_type": "code",
   "execution_count": 20,
   "metadata": {},
   "outputs": [
    {
     "data": {
      "text/plain": [
       "11-element Vector{Float64}:\n",
       "   0.0\n",
       "   4.009765625\n",
       "  16.0390625\n",
       "  36.087890625\n",
       "  64.15625\n",
       " 100.244140625\n",
       " 144.3515625\n",
       " 196.478515625\n",
       " 256.625\n",
       " 324.791015625\n",
       " 400.9765625"
      ]
     },
     "metadata": {},
     "output_type": "display_data"
    }
   ],
   "source": [
    "x2 = [x^2 for x in 0:10] .* mean(lnks)"
   ]
  },
  {
   "cell_type": "code",
   "execution_count": 182,
   "metadata": {},
   "outputs": [
    {
     "ename": "LoadError",
     "evalue": "UndefVarError: `histogram` not defined",
     "output_type": "error",
     "traceback": [
      "UndefVarError: `histogram` not defined",
      "",
      "Stacktrace:",
      " [1] top-level scope",
      "   @ In[182]:1"
     ]
    }
   ],
   "source": [
    "histogram(lvldist)\n",
    "plot!(x2)\n",
    "ylims!(0, 500)"
   ]
  },
  {
   "cell_type": "code",
   "execution_count": null,
   "metadata": {},
   "outputs": [],
   "source": []
  }
 ],
 "metadata": {
  "kernelspec": {
   "display_name": "Julia 1.9.2",
   "language": "julia",
   "name": "julia-1.9"
  },
  "language_info": {
   "file_extension": ".jl",
   "mimetype": "application/julia",
   "name": "julia",
   "version": "1.9.2"
  },
  "orig_nbformat": 4
 },
 "nbformat": 4,
 "nbformat_minor": 2
}
