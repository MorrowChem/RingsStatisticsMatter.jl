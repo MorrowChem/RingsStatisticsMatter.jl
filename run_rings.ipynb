{
 "cells": [
  {
   "cell_type": "code",
   "execution_count": 1,
   "metadata": {},
   "outputs": [],
   "source": [
    "import numpy as np\n",
    "from ase.io import read, write\n",
    "from ase.neighborlist import NeighborList, NewPrimitiveNeighborList\n",
    "from rings import ring_statistics"
   ]
  },
  {
   "cell_type": "code",
   "execution_count": 2,
   "metadata": {},
   "outputs": [],
   "source": [
    "ats = read('structures/aSi_500atom_test.xyz', '-1')"
   ]
  },
  {
   "cell_type": "code",
   "execution_count": 3,
   "metadata": {},
   "outputs": [
    {
     "name": "stdout",
     "output_type": "stream",
     "text": [
      "Num refnodes requested:  4\n",
      "Refnodes chosen:  [ 23 431 208 374]\n",
      "Running ring_statistics with 1 threads\n",
      "Progress:  ..4% ..9% ..14% ..19% ..24% ..29% ..34% ..39% ..43% ..48% ..53% ..58% ..63% ..68% ..73% ..78% ..83% ..87% ..92% ..97%\n",
      "Number of rings elimated during search (even, odd): 11725, 18074 82.66% of total\n",
      "Ring statistics:\n",
      "Ring Size | Count \n",
      "----------|----------\n",
      "      1 |     0.0\n",
      "      2 |     0.0\n",
      "      3 |     0.0\n",
      "      4 |     5.0\n",
      "      5 |   192.0\n",
      "      6 |   479.0\n",
      "      7 |   257.0\n",
      "      8 |    60.0\n",
      "      9 |    13.0\n",
      "     10 |     0.0\n",
      "     11 |     0.0\n"
     ]
    }
   ],
   "source": [
    "rs, rings = ring_statistics(ats)"
   ]
  }
 ],
 "metadata": {
  "kernelspec": {
   "display_name": "rings",
   "language": "python",
   "name": "python3"
  },
  "language_info": {
   "codemirror_mode": {
    "name": "ipython",
    "version": 3
   },
   "file_extension": ".py",
   "mimetype": "text/x-python",
   "name": "python",
   "nbconvert_exporter": "python",
   "pygments_lexer": "ipython3",
   "version": "3.11.4"
  },
  "orig_nbformat": 4
 },
 "nbformat": 4,
 "nbformat_minor": 2
}
