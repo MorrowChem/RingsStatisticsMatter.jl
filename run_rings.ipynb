{
 "cells": [
  {
   "cell_type": "code",
   "execution_count": 1,
   "metadata": {},
   "outputs": [],
   "source": [
    "import os\n",
    "os.environ[\"JULIA_NUM_THREADS\"] = \"1\"\n",
    "from ase.io import read\n",
    "from julia_rings.rings import ring_statistics\n",
    "import julia"
   ]
  },
  {
   "cell_type": "code",
   "execution_count": 2,
   "metadata": {},
   "outputs": [],
   "source": [
    "ats = read('structures/aSi_500atom_test.xyz', '-1')"
   ]
  },
  {
   "cell_type": "code",
   "execution_count": 3,
   "metadata": {},
   "outputs": [
    {
     "name": "stdout",
     "output_type": "stream",
     "text": [
      "Cutoffs auto-set to:  [1.443]\n",
      "Num refnodes requested:  4\n",
      "Running ring_statistics with 1 threads, verbosity level 0\n",
      "Starting ring statistics...\n",
      " ..4% ..9% ..14% ..19% ..24% ..29% ..34% ..39% ..43% ..48% ..53% ..58% ..63% ..68% ..73% ..78% ..83% ..87% ..92% ..97%\n",
      "Ring statistics:\n",
      "Ring Size |            Count \n",
      "----------|------------------\n",
      "        1 |             0.0\n",
      "        2 |             0.0\n",
      "        3 |             0.0\n",
      "        4 |             5.0\n",
      "        5 |           192.0\n",
      "        6 |           479.0\n",
      "        7 |           257.0\n",
      "        8 |            60.0\n",
      "        9 |            13.0\n",
      "       10 |             0.0\n",
      "       11 |             0.0\n"
     ]
    }
   ],
   "source": [
    "rs, rings = ring_statistics(ats)"
   ]
  },
  {
   "cell_type": "code",
   "execution_count": 4,
   "metadata": {},
   "outputs": [
    {
     "name": "stdout",
     "output_type": "stream",
     "text": [
      "[  0.   0.   0.   5. 192. 479. 257.  60.  13.   0.   0.   0.   0.   0.\n",
      "   0.   0.   0.   0.   0.   0.   0.   0.   0.   0.]\n"
     ]
    }
   ],
   "source": [
    "print(rs)"
   ]
  }
 ],
 "metadata": {
  "kernelspec": {
   "display_name": "rings",
   "language": "python",
   "name": "python3"
  },
  "language_info": {
   "codemirror_mode": {
    "name": "ipython",
    "version": 3
   },
   "file_extension": ".py",
   "mimetype": "text/x-python",
   "name": "python",
   "nbconvert_exporter": "python",
   "pygments_lexer": "ipython3",
   "version": "3.11.4"
  },
  "orig_nbformat": 4
 },
 "nbformat": 4,
 "nbformat_minor": 2
}
